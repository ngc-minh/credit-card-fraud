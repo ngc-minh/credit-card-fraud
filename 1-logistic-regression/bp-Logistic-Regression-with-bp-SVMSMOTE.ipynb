{
 "cells": [
  {
   "cell_type": "code",
   "execution_count": 1,
   "id": "584b57b9-2250-4fe1-8a1f-03674d137928",
   "metadata": {},
   "outputs": [],
   "source": [
    "\n",
    "import matplotlib.pyplot as plt\n",
    "import numpy as np\n",
    "import pandas as pd\n",
    "import seaborn as sns\n",
    "import warnings\n",
    "from imblearn.over_sampling import SMOTE\n",
    "from imblearn.pipeline import make_pipeline\n",
    "from pylab import rcParams\n",
    "from sklearn.linear_model import LogisticRegression\n",
    "from sklearn.metrics import accuracy_score\n",
    "from sklearn.metrics import precision_score, recall_score, confusion_matrix\n",
    "from sklearn.metrics import f1_score, roc_auc_score, roc_curve\n",
    "from sklearn.model_selection import train_test_split\n",
    "from sklearn.model_selection import GridSearchCV"
   ]
  },
  {
   "cell_type": "code",
   "execution_count": 2,
   "id": "a1b661db-e2eb-43e1-a452-ba1022d126ef",
   "metadata": {},
   "outputs": [],
   "source": [
    "%matplotlib inline\n",
    "np.random.seed(27)\n",
    "rcParams['figure.figsize'] = 10, 6\n",
    "warnings.filterwarnings('ignore')\n",
    "sns.set(style=\"darkgrid\")"
   ]
  },
  {
   "cell_type": "code",
   "execution_count": 3,
   "id": "429973e2-1e49-4d39-99ab-5621d6963571",
   "metadata": {},
   "outputs": [],
   "source": [
    "def generate_model_report(y_actual, y_predicted):\n",
    "    print(\"Accuracy = \" , accuracy_score(y_actual, y_predicted))\n",
    "    print(\"Precision = \" ,precision_score(y_actual, y_predicted))\n",
    "    print(\"Recall = \" ,recall_score(y_actual, y_predicted))\n",
    "    print(\"F1 Score = \" ,f1_score(y_actual, y_predicted))\n",
    "    pass"
   ]
  },
  {
   "cell_type": "code",
   "execution_count": 4,
   "id": "5a966998-375d-4747-908a-e309534b69ec",
   "metadata": {},
   "outputs": [],
   "source": [
    "def generate_auc_roc_curve(clf, X_test):\n",
    "    y_pred_proba = clf.predict_proba(X_test)[:, 1]\n",
    "    fpr, tpr, thresholds = roc_curve(y_test,  y_pred_proba)\n",
    "    auc = roc_auc_score(y_test, y_pred_proba)\n",
    "    plt.plot(fpr,tpr,label=\"AUC ROC Curve with Area Under the curve =\"+str(auc))\n",
    "    plt.legend(loc=4)\n",
    "    plt.show()\n",
    "    pass"
   ]
  },
  {
   "cell_type": "code",
   "execution_count": 9,
   "id": "b8634c78-4fc9-4681-80dd-b5b7b5320472",
   "metadata": {},
   "outputs": [],
   "source": [
    "df = pd.read_csv(\"../creditcardfraud/creditcard.csv\")"
   ]
  },
  {
   "cell_type": "code",
   "execution_count": 10,
   "id": "65db8396-257f-4b09-bc0d-72ece36c87a2",
   "metadata": {},
   "outputs": [],
   "source": [
    "target = 'Class'"
   ]
  },
  {
   "cell_type": "code",
   "execution_count": 11,
   "id": "e9e75b08-3304-480b-ad1b-81924fec3d42",
   "metadata": {},
   "outputs": [],
   "source": [
    "X = df.loc[:, df.columns!=target]"
   ]
  },
  {
   "cell_type": "code",
   "execution_count": 12,
   "id": "ecb97712-9c85-4be8-ad8e-79a6e2ac8398",
   "metadata": {},
   "outputs": [],
   "source": [
    "y = df.loc[:, df.columns==target]"
   ]
  },
  {
   "cell_type": "code",
   "execution_count": 13,
   "id": "fc895859-218c-494d-89fa-3bbca3682b4b",
   "metadata": {},
   "outputs": [],
   "source": [
    "from imblearn.pipeline import make_pipeline\n",
    "from sklearn.linear_model import LogisticRegression\n",
    "from imblearn.over_sampling import SVMSMOTE\n"
   ]
  },
  {
   "cell_type": "code",
   "execution_count": 14,
   "id": "e5780044-c326-4fce-a50a-305a797cc724",
   "metadata": {},
   "outputs": [],
   "source": [
    "# Import thư viện và module cần thiết\n",
    "from imblearn.pipeline import make_pipeline\n",
    "from sklearn.linear_model import LogisticRegression\n",
    "from imblearn.over_sampling import SVMSMOTE\n",
    "\n",
    "# Khởi tạo pipeline với SVMSMOTE và LogisticRegression\n",
    "pipeline = make_pipeline(SVMSMOTE(sampling_strategy=0.005), LogisticRegression(class_weight={0: 0.25, 1: 0.75}))\n",
    "\n",
    "# Fit pipeline vào dữ liệu\n",
    "pipeline.fit(X, y)\n",
    "\n",
    "# Transform dữ liệu\n",
    "X_resampled, y_resampled = pipeline.named_steps['svmsmote'].fit_resample(X, y)\n"
   ]
  },
  {
   "cell_type": "code",
   "execution_count": 15,
   "id": "5a420853-039a-4385-8eba-57a17b73c632",
   "metadata": {},
   "outputs": [
    {
     "name": "stdout",
     "output_type": "stream",
     "text": [
      "Best parameters: OrderedDict([('C', 0.10524626011930865), ('penalty', 'l1')])\n",
      "Best F1 Score: 0.8874948550431517\n"
     ]
    }
   ],
   "source": [
    "import numpy as np\n",
    "from sklearn.datasets import load_breast_cancer\n",
    "from sklearn.linear_model import LogisticRegression\n",
    "from sklearn.model_selection import cross_val_score\n",
    "from sklearn.metrics import make_scorer, f1_score\n",
    "from skopt import BayesSearchCV\n",
    "from skopt.space import Real, Categorical, Integer\n",
    "\n",
    "# Định nghĩa mô hình Logistic Regression\n",
    "model = LogisticRegression(solver='liblinear')\n",
    "\n",
    "# Định nghĩa không gian tìm kiếm tham số\n",
    "search_spaces = {\n",
    "    'C': Real(1e-6, 1e+6, prior='log-uniform'),\n",
    "    'penalty': Categorical(['l1', 'l2']),\n",
    "}\n",
    "\n",
    "# Định nghĩa cross-validation và bộ tối ưu hóa Bayesian\n",
    "opt = BayesSearchCV(\n",
    "    model,\n",
    "    search_spaces,\n",
    "    n_iter=50,\n",
    "    scoring=make_scorer(f1_score),\n",
    "    cv=5,\n",
    "    n_jobs=-1,\n",
    "    verbose=0,\n",
    "    random_state=42\n",
    ")\n",
    "\n",
    "# Thực hiện tìm kiếm tham số\n",
    "opt.fit(X_resampled, y_resampled)\n",
    "\n",
    "# In ra kết quả tốt nhất\n",
    "print(\"Best parameters:\", opt.best_params_)\n",
    "print(\"Best F1 Score:\", opt.best_score_)\n"
   ]
  },
  {
   "cell_type": "markdown",
   "id": "983eab89-aacd-49f8-ab34-e1d547f34f03",
   "metadata": {},
   "source": [
    "<center><h1>Sử dụng dữ liệu đã sinh ra</h1></center>"
   ]
  },
  {
   "cell_type": "code",
   "execution_count": 16,
   "id": "e3c121cd-2ada-4c27-b1ff-deff117aaee0",
   "metadata": {
    "scrolled": true
   },
   "outputs": [
    {
     "data": {
      "text/html": [
       "<div>\n",
       "<style scoped>\n",
       "    .dataframe tbody tr th:only-of-type {\n",
       "        vertical-align: middle;\n",
       "    }\n",
       "\n",
       "    .dataframe tbody tr th {\n",
       "        vertical-align: top;\n",
       "    }\n",
       "\n",
       "    .dataframe thead th {\n",
       "        text-align: right;\n",
       "    }\n",
       "</style>\n",
       "<table border=\"1\" class=\"dataframe\">\n",
       "  <thead>\n",
       "    <tr style=\"text-align: right;\">\n",
       "      <th></th>\n",
       "      <th>Time</th>\n",
       "      <th>V1</th>\n",
       "      <th>V2</th>\n",
       "      <th>V3</th>\n",
       "      <th>V4</th>\n",
       "      <th>V5</th>\n",
       "      <th>V6</th>\n",
       "      <th>V7</th>\n",
       "      <th>V8</th>\n",
       "      <th>V9</th>\n",
       "      <th>...</th>\n",
       "      <th>V20</th>\n",
       "      <th>V21</th>\n",
       "      <th>V22</th>\n",
       "      <th>V23</th>\n",
       "      <th>V24</th>\n",
       "      <th>V25</th>\n",
       "      <th>V26</th>\n",
       "      <th>V27</th>\n",
       "      <th>V28</th>\n",
       "      <th>Amount</th>\n",
       "    </tr>\n",
       "  </thead>\n",
       "  <tbody>\n",
       "    <tr>\n",
       "      <th>0</th>\n",
       "      <td>0.000000</td>\n",
       "      <td>-1.359807</td>\n",
       "      <td>-0.072781</td>\n",
       "      <td>2.536347</td>\n",
       "      <td>1.378155</td>\n",
       "      <td>-0.338321</td>\n",
       "      <td>0.462388</td>\n",
       "      <td>0.239599</td>\n",
       "      <td>0.098698</td>\n",
       "      <td>0.363787</td>\n",
       "      <td>...</td>\n",
       "      <td>0.251412</td>\n",
       "      <td>-0.018307</td>\n",
       "      <td>0.277838</td>\n",
       "      <td>-0.110474</td>\n",
       "      <td>0.066928</td>\n",
       "      <td>0.128539</td>\n",
       "      <td>-0.189115</td>\n",
       "      <td>0.133558</td>\n",
       "      <td>-0.021053</td>\n",
       "      <td>149.620000</td>\n",
       "    </tr>\n",
       "    <tr>\n",
       "      <th>1</th>\n",
       "      <td>0.000000</td>\n",
       "      <td>1.191857</td>\n",
       "      <td>0.266151</td>\n",
       "      <td>0.166480</td>\n",
       "      <td>0.448154</td>\n",
       "      <td>0.060018</td>\n",
       "      <td>-0.082361</td>\n",
       "      <td>-0.078803</td>\n",
       "      <td>0.085102</td>\n",
       "      <td>-0.255425</td>\n",
       "      <td>...</td>\n",
       "      <td>-0.069083</td>\n",
       "      <td>-0.225775</td>\n",
       "      <td>-0.638672</td>\n",
       "      <td>0.101288</td>\n",
       "      <td>-0.339846</td>\n",
       "      <td>0.167170</td>\n",
       "      <td>0.125895</td>\n",
       "      <td>-0.008983</td>\n",
       "      <td>0.014724</td>\n",
       "      <td>2.690000</td>\n",
       "    </tr>\n",
       "    <tr>\n",
       "      <th>2</th>\n",
       "      <td>1.000000</td>\n",
       "      <td>-1.358354</td>\n",
       "      <td>-1.340163</td>\n",
       "      <td>1.773209</td>\n",
       "      <td>0.379780</td>\n",
       "      <td>-0.503198</td>\n",
       "      <td>1.800499</td>\n",
       "      <td>0.791461</td>\n",
       "      <td>0.247676</td>\n",
       "      <td>-1.514654</td>\n",
       "      <td>...</td>\n",
       "      <td>0.524980</td>\n",
       "      <td>0.247998</td>\n",
       "      <td>0.771679</td>\n",
       "      <td>0.909412</td>\n",
       "      <td>-0.689281</td>\n",
       "      <td>-0.327642</td>\n",
       "      <td>-0.139097</td>\n",
       "      <td>-0.055353</td>\n",
       "      <td>-0.059752</td>\n",
       "      <td>378.660000</td>\n",
       "    </tr>\n",
       "    <tr>\n",
       "      <th>3</th>\n",
       "      <td>1.000000</td>\n",
       "      <td>-0.966272</td>\n",
       "      <td>-0.185226</td>\n",
       "      <td>1.792993</td>\n",
       "      <td>-0.863291</td>\n",
       "      <td>-0.010309</td>\n",
       "      <td>1.247203</td>\n",
       "      <td>0.237609</td>\n",
       "      <td>0.377436</td>\n",
       "      <td>-1.387024</td>\n",
       "      <td>...</td>\n",
       "      <td>-0.208038</td>\n",
       "      <td>-0.108300</td>\n",
       "      <td>0.005274</td>\n",
       "      <td>-0.190321</td>\n",
       "      <td>-1.175575</td>\n",
       "      <td>0.647376</td>\n",
       "      <td>-0.221929</td>\n",
       "      <td>0.062723</td>\n",
       "      <td>0.061458</td>\n",
       "      <td>123.500000</td>\n",
       "    </tr>\n",
       "    <tr>\n",
       "      <th>4</th>\n",
       "      <td>2.000000</td>\n",
       "      <td>-1.158233</td>\n",
       "      <td>0.877737</td>\n",
       "      <td>1.548718</td>\n",
       "      <td>0.403034</td>\n",
       "      <td>-0.407193</td>\n",
       "      <td>0.095921</td>\n",
       "      <td>0.592941</td>\n",
       "      <td>-0.270533</td>\n",
       "      <td>0.817739</td>\n",
       "      <td>...</td>\n",
       "      <td>0.408542</td>\n",
       "      <td>-0.009431</td>\n",
       "      <td>0.798278</td>\n",
       "      <td>-0.137458</td>\n",
       "      <td>0.141267</td>\n",
       "      <td>-0.206010</td>\n",
       "      <td>0.502292</td>\n",
       "      <td>0.219422</td>\n",
       "      <td>0.215153</td>\n",
       "      <td>69.990000</td>\n",
       "    </tr>\n",
       "    <tr>\n",
       "      <th>...</th>\n",
       "      <td>...</td>\n",
       "      <td>...</td>\n",
       "      <td>...</td>\n",
       "      <td>...</td>\n",
       "      <td>...</td>\n",
       "      <td>...</td>\n",
       "      <td>...</td>\n",
       "      <td>...</td>\n",
       "      <td>...</td>\n",
       "      <td>...</td>\n",
       "      <td>...</td>\n",
       "      <td>...</td>\n",
       "      <td>...</td>\n",
       "      <td>...</td>\n",
       "      <td>...</td>\n",
       "      <td>...</td>\n",
       "      <td>...</td>\n",
       "      <td>...</td>\n",
       "      <td>...</td>\n",
       "      <td>...</td>\n",
       "      <td>...</td>\n",
       "    </tr>\n",
       "    <tr>\n",
       "      <th>285731</th>\n",
       "      <td>93850.536952</td>\n",
       "      <td>-4.544615</td>\n",
       "      <td>7.235117</td>\n",
       "      <td>-11.717957</td>\n",
       "      <td>7.864797</td>\n",
       "      <td>-7.052214</td>\n",
       "      <td>-3.897977</td>\n",
       "      <td>-11.579547</td>\n",
       "      <td>4.198167</td>\n",
       "      <td>-4.447133</td>\n",
       "      <td>...</td>\n",
       "      <td>0.881800</td>\n",
       "      <td>2.489097</td>\n",
       "      <td>0.603491</td>\n",
       "      <td>1.010487</td>\n",
       "      <td>0.344152</td>\n",
       "      <td>-0.434081</td>\n",
       "      <td>-0.260052</td>\n",
       "      <td>0.239682</td>\n",
       "      <td>0.684151</td>\n",
       "      <td>33.253302</td>\n",
       "    </tr>\n",
       "    <tr>\n",
       "      <th>285732</th>\n",
       "      <td>93889.324926</td>\n",
       "      <td>-15.473546</td>\n",
       "      <td>7.669940</td>\n",
       "      <td>-23.455006</td>\n",
       "      <td>7.249336</td>\n",
       "      <td>-13.040675</td>\n",
       "      <td>-5.604211</td>\n",
       "      <td>-14.731775</td>\n",
       "      <td>9.666772</td>\n",
       "      <td>-4.373217</td>\n",
       "      <td>...</td>\n",
       "      <td>-2.118686</td>\n",
       "      <td>3.151130</td>\n",
       "      <td>0.668420</td>\n",
       "      <td>-1.261874</td>\n",
       "      <td>0.459433</td>\n",
       "      <td>-0.030167</td>\n",
       "      <td>0.065003</td>\n",
       "      <td>-3.273225</td>\n",
       "      <td>-1.165118</td>\n",
       "      <td>127.511264</td>\n",
       "    </tr>\n",
       "    <tr>\n",
       "      <th>285733</th>\n",
       "      <td>93884.440209</td>\n",
       "      <td>-13.401518</td>\n",
       "      <td>7.732504</td>\n",
       "      <td>-21.560343</td>\n",
       "      <td>7.190891</td>\n",
       "      <td>-11.954002</td>\n",
       "      <td>-5.412674</td>\n",
       "      <td>-14.004380</td>\n",
       "      <td>8.665357</td>\n",
       "      <td>-4.525105</td>\n",
       "      <td>...</td>\n",
       "      <td>-1.588544</td>\n",
       "      <td>3.088590</td>\n",
       "      <td>0.752727</td>\n",
       "      <td>-0.692774</td>\n",
       "      <td>0.438418</td>\n",
       "      <td>-0.165553</td>\n",
       "      <td>-0.005470</td>\n",
       "      <td>-2.668865</td>\n",
       "      <td>-0.808996</td>\n",
       "      <td>111.483087</td>\n",
       "    </tr>\n",
       "    <tr>\n",
       "      <th>285734</th>\n",
       "      <td>93860.859083</td>\n",
       "      <td>-11.422728</td>\n",
       "      <td>6.681380</td>\n",
       "      <td>-17.218368</td>\n",
       "      <td>8.476764</td>\n",
       "      <td>-10.543246</td>\n",
       "      <td>-4.218879</td>\n",
       "      <td>-14.303820</td>\n",
       "      <td>7.437924</td>\n",
       "      <td>-3.613894</td>\n",
       "      <td>...</td>\n",
       "      <td>-0.785591</td>\n",
       "      <td>2.546407</td>\n",
       "      <td>0.093052</td>\n",
       "      <td>-1.208660</td>\n",
       "      <td>0.411903</td>\n",
       "      <td>0.155677</td>\n",
       "      <td>-0.005006</td>\n",
       "      <td>-1.619352</td>\n",
       "      <td>-0.511165</td>\n",
       "      <td>82.062235</td>\n",
       "    </tr>\n",
       "    <tr>\n",
       "      <th>285735</th>\n",
       "      <td>93882.708436</td>\n",
       "      <td>-13.781818</td>\n",
       "      <td>7.566671</td>\n",
       "      <td>-21.556202</td>\n",
       "      <td>7.388039</td>\n",
       "      <td>-12.101626</td>\n",
       "      <td>-5.307373</td>\n",
       "      <td>-14.276012</td>\n",
       "      <td>8.811491</td>\n",
       "      <td>-4.350465</td>\n",
       "      <td>...</td>\n",
       "      <td>-1.644626</td>\n",
       "      <td>3.033034</td>\n",
       "      <td>0.634408</td>\n",
       "      <td>-0.944422</td>\n",
       "      <td>0.441380</td>\n",
       "      <td>-0.078106</td>\n",
       "      <td>0.016881</td>\n",
       "      <td>-2.714159</td>\n",
       "      <td>-0.880231</td>\n",
       "      <td>112.463840</td>\n",
       "    </tr>\n",
       "  </tbody>\n",
       "</table>\n",
       "<p>285736 rows × 30 columns</p>\n",
       "</div>"
      ],
      "text/plain": [
       "                Time         V1        V2         V3        V4         V5  \\\n",
       "0           0.000000  -1.359807 -0.072781   2.536347  1.378155  -0.338321   \n",
       "1           0.000000   1.191857  0.266151   0.166480  0.448154   0.060018   \n",
       "2           1.000000  -1.358354 -1.340163   1.773209  0.379780  -0.503198   \n",
       "3           1.000000  -0.966272 -0.185226   1.792993 -0.863291  -0.010309   \n",
       "4           2.000000  -1.158233  0.877737   1.548718  0.403034  -0.407193   \n",
       "...              ...        ...       ...        ...       ...        ...   \n",
       "285731  93850.536952  -4.544615  7.235117 -11.717957  7.864797  -7.052214   \n",
       "285732  93889.324926 -15.473546  7.669940 -23.455006  7.249336 -13.040675   \n",
       "285733  93884.440209 -13.401518  7.732504 -21.560343  7.190891 -11.954002   \n",
       "285734  93860.859083 -11.422728  6.681380 -17.218368  8.476764 -10.543246   \n",
       "285735  93882.708436 -13.781818  7.566671 -21.556202  7.388039 -12.101626   \n",
       "\n",
       "              V6         V7        V8        V9  ...       V20       V21  \\\n",
       "0       0.462388   0.239599  0.098698  0.363787  ...  0.251412 -0.018307   \n",
       "1      -0.082361  -0.078803  0.085102 -0.255425  ... -0.069083 -0.225775   \n",
       "2       1.800499   0.791461  0.247676 -1.514654  ...  0.524980  0.247998   \n",
       "3       1.247203   0.237609  0.377436 -1.387024  ... -0.208038 -0.108300   \n",
       "4       0.095921   0.592941 -0.270533  0.817739  ...  0.408542 -0.009431   \n",
       "...          ...        ...       ...       ...  ...       ...       ...   \n",
       "285731 -3.897977 -11.579547  4.198167 -4.447133  ...  0.881800  2.489097   \n",
       "285732 -5.604211 -14.731775  9.666772 -4.373217  ... -2.118686  3.151130   \n",
       "285733 -5.412674 -14.004380  8.665357 -4.525105  ... -1.588544  3.088590   \n",
       "285734 -4.218879 -14.303820  7.437924 -3.613894  ... -0.785591  2.546407   \n",
       "285735 -5.307373 -14.276012  8.811491 -4.350465  ... -1.644626  3.033034   \n",
       "\n",
       "             V22       V23       V24       V25       V26       V27       V28  \\\n",
       "0       0.277838 -0.110474  0.066928  0.128539 -0.189115  0.133558 -0.021053   \n",
       "1      -0.638672  0.101288 -0.339846  0.167170  0.125895 -0.008983  0.014724   \n",
       "2       0.771679  0.909412 -0.689281 -0.327642 -0.139097 -0.055353 -0.059752   \n",
       "3       0.005274 -0.190321 -1.175575  0.647376 -0.221929  0.062723  0.061458   \n",
       "4       0.798278 -0.137458  0.141267 -0.206010  0.502292  0.219422  0.215153   \n",
       "...          ...       ...       ...       ...       ...       ...       ...   \n",
       "285731  0.603491  1.010487  0.344152 -0.434081 -0.260052  0.239682  0.684151   \n",
       "285732  0.668420 -1.261874  0.459433 -0.030167  0.065003 -3.273225 -1.165118   \n",
       "285733  0.752727 -0.692774  0.438418 -0.165553 -0.005470 -2.668865 -0.808996   \n",
       "285734  0.093052 -1.208660  0.411903  0.155677 -0.005006 -1.619352 -0.511165   \n",
       "285735  0.634408 -0.944422  0.441380 -0.078106  0.016881 -2.714159 -0.880231   \n",
       "\n",
       "            Amount  \n",
       "0       149.620000  \n",
       "1         2.690000  \n",
       "2       378.660000  \n",
       "3       123.500000  \n",
       "4        69.990000  \n",
       "...            ...  \n",
       "285731   33.253302  \n",
       "285732  127.511264  \n",
       "285733  111.483087  \n",
       "285734   82.062235  \n",
       "285735  112.463840  \n",
       "\n",
       "[285736 rows x 30 columns]"
      ]
     },
     "execution_count": 16,
     "metadata": {},
     "output_type": "execute_result"
    }
   ],
   "source": [
    "X_resampled"
   ]
  },
  {
   "cell_type": "code",
   "execution_count": 22,
   "id": "da783671-cafd-4a0f-a258-76a1c03e5f45",
   "metadata": {},
   "outputs": [
    {
     "data": {
      "text/plain": [
       "(285736, 30)"
      ]
     },
     "execution_count": 22,
     "metadata": {},
     "output_type": "execute_result"
    }
   ],
   "source": [
    "X_resampled.shape"
   ]
  },
  {
   "cell_type": "code",
   "execution_count": 23,
   "id": "8b1cb8f2-f6a6-414a-99c4-2ba828f6009c",
   "metadata": {},
   "outputs": [
    {
     "data": {
      "text/plain": [
       "(285736, 1)"
      ]
     },
     "execution_count": 23,
     "metadata": {},
     "output_type": "execute_result"
    }
   ],
   "source": [
    "y_resampled.shape"
   ]
  },
  {
   "cell_type": "code",
   "execution_count": 19,
   "id": "3473b235-b88f-436b-aced-0533b0437754",
   "metadata": {},
   "outputs": [
    {
     "data": {
      "text/plain": [
       "Class\n",
       "0    284315\n",
       "1      1421\n",
       "Name: count, dtype: int64"
      ]
     },
     "execution_count": 19,
     "metadata": {},
     "output_type": "execute_result"
    }
   ],
   "source": [
    "y_resampled['Class'].value_counts()"
   ]
  },
  {
   "cell_type": "code",
   "execution_count": 26,
   "id": "7842b9f0-82c5-4567-b704-7700f5f7ba05",
   "metadata": {},
   "outputs": [],
   "source": [
    "X_train, X_test, y_train, y_test = train_test_split(X_resampled, y_resampled,random_state=42,\n",
    "                                                    test_size=0.2,stratify=y_resampled)"
   ]
  },
  {
   "cell_type": "markdown",
   "id": "c8bada4e-38a9-421d-a3c3-223249907e13",
   "metadata": {},
   "source": [
    "<center><h1>Sử dụng bộ tham số tối ưu để huấn luyện mô hình</h1></center>"
   ]
  },
  {
   "cell_type": "code",
   "execution_count": 31,
   "id": "cedc28fd-1717-4a43-8ac1-987ec45f6195",
   "metadata": {},
   "outputs": [
    {
     "name": "stdout",
     "output_type": "stream",
     "text": [
      "Final F1 Score on training data: 0.8713235294117647\n"
     ]
    }
   ],
   "source": [
    "# Sử dụng bộ tham số tối ưu để huấn luyện mô hình cuối cùng\n",
    "best_params = opt.best_params_\n",
    "final_model = LogisticRegression(solver='liblinear', **best_params)\n",
    "\n",
    "# Huấn luyện mô hình trên toàn bộ dữ liệu\n",
    "final_model.fit(X_train, y_train)\n",
    "\n",
    "# Đánh giá mô hình cuối cùng (trong trường hợp này ta dùng lại dữ liệu huấn luyện để kiểm tra)\n",
    "y_pred = final_model.predict(X_test)\n",
    "final_f1_score = f1_score(y_test, y_pred)\n",
    "print(\"Final F1 Score on training data:\", final_f1_score)"
   ]
  },
  {
   "cell_type": "code",
   "execution_count": 32,
   "id": "a46769c4-2f7d-49d6-b52d-e09b0bd9af32",
   "metadata": {},
   "outputs": [
    {
     "name": "stdout",
     "output_type": "stream",
     "text": [
      "Accuracy =  0.9987751102400784\n",
      "Precision =  0.9115384615384615\n",
      "Recall =  0.8345070422535211\n",
      "F1 Score =  0.8713235294117647\n"
     ]
    }
   ],
   "source": [
    "generate_model_report(y_test, y_pred)"
   ]
  },
  {
   "cell_type": "code",
   "execution_count": 33,
   "id": "1568183f-0f51-4d03-9377-e6636d7396ee",
   "metadata": {},
   "outputs": [
    {
     "data": {
      "image/png": "[encoded data removed]",
      "text/plain": [
       "<Figure size 1000x600 with 1 Axes>"
      ]
     },
     "metadata": {},
     "output_type": "display_data"
    }
   ],
   "source": [
    "generate_auc_roc_curve(final_model, X_test)"
   ]
  },
  {
   "cell_type": "code",
   "execution_count": 38,
   "id": "db4c1132-5a37-4998-ae82-5d5af9a422e4",
   "metadata": {},
   "outputs": [],
   "source": [
    "from sklearn.metrics import f1_score"
   ]
  },
  {
   "cell_type": "code",
   "execution_count": 42,
   "id": "cc52f1f5-c62c-400f-86c9-cf1dc25ae8c1",
   "metadata": {},
   "outputs": [
    {
     "name": "stdout",
     "output_type": "stream",
     "text": [
      "Final F1 Score on training data: 0.8713235294117647\n"
     ]
    }
   ],
   "source": [
    "#Sử dụng tập dữ liệu test để chạy model dự đoán \n",
    "# y_pred = KNN.predict(X_test)\n",
    "\n",
    "#Kiểm tra độ chính xác của model trên tập dữ liệu test\n",
    "\n",
    "final_f1_score = f1_score(y_test, y_pred)\n",
    "print(\"Final F1 Score on training data:\", final_f1_score)"
   ]
  },
  {
   "cell_type": "code",
   "execution_count": 41,
   "id": "7121a2c2-322c-4d82-b3a9-8f118545ec36",
   "metadata": {},
   "outputs": [
    {
     "name": "stdout",
     "output_type": "stream",
     "text": [
      "F1-score trên tập huấn luyện: 99.9\n"
     ]
    }
   ],
   "source": [
    "#Độ giá trị f1-score của Model trên tập Huấn luyện\n",
    "y_train_pred = final_model.predict(X_train)\n",
    "f1_train = f1_score(y_train, y_train_pred, average='weighted')\n",
    "print('F1-score trên tập huấn luyện:', round(f1_train*100, 2))"
   ]
  },
  {
   "cell_type": "code",
   "execution_count": null,
   "id": "1a8a0193-45d4-4e81-899a-8c756392d43b",
   "metadata": {},
   "outputs": [],
   "source": []
  }
 ],
 "metadata": {
  "kernelspec": {
   "display_name": "Python 3 (ipykernel)",
   "language": "python",
   "name": "python3"
  },
  "language_info": {
   "codemirror_mode": {
    "name": "ipython",
    "version": 3
   },
   "file_extension": ".py",
   "mimetype": "text/x-python",
   "name": "python",
   "nbconvert_exporter": "python",
   "pygments_lexer": "ipython3",
   "version": "3.11.7"
  }
 },
 "nbformat": 4,
 "nbformat_minor": 5
}
